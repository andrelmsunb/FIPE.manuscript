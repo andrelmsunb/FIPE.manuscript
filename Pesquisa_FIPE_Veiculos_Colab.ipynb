{
  "cells": [
    {
      "cell_type": "markdown",
      "metadata": {
        "id": "view-in-github",
        "colab_type": "text"
      },
      "source": [
        "<a href=\"https://colab.research.google.com/github/andrelmsunb/FIPE.manuscript/blob/main/Pesquisa_FIPE_Veiculos_Colab.ipynb\" target=\"_parent\"><img src=\"https://colab.research.google.com/assets/colab-badge.svg\" alt=\"Open In Colab\"/></a>"
      ]
    },
    {
      "cell_type": "markdown",
      "metadata": {
        "id": "header"
      },
      "source": [
        "# MVP - Previsão de Valor FIPE de Veículos\n",
        "\n",
        "Este notebook segue o roteiro proposto para a criação de um MVP (Minimum Viable Product) de Machine Learning.\n",
        "\n",
        "**Autor**: Análise realizada com Andre Luiz Marques Serrano  \n",
        "**Data**: 10/09/2025\n",
        "\n",
        "## 1. Definição do Problema\n",
        "\n",
        "- **Objetivo**: Construir um modelo de Machine Learning para prever o **Valor FIPE** de um veículo com base em suas características (ano, montadora, modelo, etc.).\n",
        "- **Tipo de Problema**: Regressão.\n",
        "- **Base de Dados**: `CópiadeVeículos.xlsx`, contendo dados de uma frota de veículos.\n",
        "- **Premissas**: O Valor FIPE é influenciado principalmente por características como ano, montadora e modelo. Outras variáveis podem ter menor impacto.\n",
        "- **Restrições**: Foram removidos dados com inconsistências graves, como `Ano Modelo` inválido e `Valor FIPE` zerado."
      ]
    },
    {
      "cell_type": "markdown",
      "metadata": {
        "id": "setup"
      },
      "source": [
        "## 2. Setup e Importação das Bibliotecas"
      ]
    },
    {
      "cell_type": "code",
      "execution_count": 1,
      "metadata": {
        "colab": {
          "base_uri": "https://localhost:8080/"
        },
        "id": "imports",
        "outputId": "e74c8e7f-7441-4b24-c7f7-5c817abceee7"
      },
      "outputs": [
        {
          "output_type": "stream",
          "name": "stdout",
          "text": [
            "Requirement already satisfied: xgboost in /usr/local/lib/python3.12/dist-packages (3.0.4)\n",
            "Requirement already satisfied: numpy in /usr/local/lib/python3.12/dist-packages (from xgboost) (2.0.2)\n",
            "Requirement already satisfied: nvidia-nccl-cu12 in /usr/local/lib/python3.12/dist-packages (from xgboost) (2.27.3)\n",
            "Requirement already satisfied: scipy in /usr/local/lib/python3.12/dist-packages (from xgboost) (1.16.1)\n",
            "Bibliotecas importadas com sucesso!\n"
          ]
        }
      ],
      "source": [
        "# Instalação de dependências (execute apenas se necessário)\n",
        "!pip install xgboost\n",
        "\n",
        "import pandas as pd\n",
        "import numpy as np\n",
        "import matplotlib.pyplot as plt\n",
        "import seaborn as sns\n",
        "from sklearn.model_selection import train_test_split\n",
        "from sklearn.preprocessing import StandardScaler, OneHotEncoder\n",
        "from sklearn.compose import ColumnTransformer\n",
        "from sklearn.pipeline import Pipeline\n",
        "from sklearn.linear_model import LinearRegression\n",
        "from sklearn.ensemble import RandomForestRegressor\n",
        "from xgboost import XGBRegressor\n",
        "from sklearn.metrics import mean_absolute_error, mean_squared_error, r2_score\n",
        "import warnings\n",
        "\n",
        "warnings.filterwarnings(\"ignore\")\n",
        "\n",
        "# Configurações de visualização\n",
        "plt.style.use(\"seaborn-v0_8-whitegrid\")\n",
        "sns.set_palette(\"viridis\")\n",
        "\n",
        "print(\"Bibliotecas importadas com sucesso!\")"
      ]
    },
    {
      "cell_type": "markdown",
      "metadata": {
        "id": "data_loading"
      },
      "source": [
        "## 3. Carga e Preparação dos Dados\n",
        "\n",
        "**Instruções para carregar os dados no Google Colab:**\n",
        "\n",
        "1. Faça o upload do arquivo `veiculos_limpo.csv` (gerado na análise prévia)\n",
        "2. Ou carregue o arquivo original `CópiadeVeículos.xlsx` e execute a limpeza dos dados\n",
        "\n",
        "**Opção 1: Carregar arquivo limpo**"
      ]
    },
    {
      "cell_type": "code",
      "execution_count": 2,
      "metadata": {
        "colab": {
          "base_uri": "https://localhost:8080/",
          "height": 536
        },
        "id": "upload_clean",
        "outputId": "98fd2d20-173a-4e92-e8af-91f72520c4bd"
      },
      "outputs": [
        {
          "output_type": "display_data",
          "data": {
            "text/plain": [
              "<IPython.core.display.HTML object>"
            ],
            "text/html": [
              "\n",
              "     <input type=\"file\" id=\"files-dfed734c-5b09-47af-970f-b88df14699d8\" name=\"files[]\" multiple disabled\n",
              "        style=\"border:none\" />\n",
              "     <output id=\"result-dfed734c-5b09-47af-970f-b88df14699d8\">\n",
              "      Upload widget is only available when the cell has been executed in the\n",
              "      current browser session. Please rerun this cell to enable.\n",
              "      </output>\n",
              "      <script>// Copyright 2017 Google LLC\n",
              "//\n",
              "// Licensed under the Apache License, Version 2.0 (the \"License\");\n",
              "// you may not use this file except in compliance with the License.\n",
              "// You may obtain a copy of the License at\n",
              "//\n",
              "//      http://www.apache.org/licenses/LICENSE-2.0\n",
              "//\n",
              "// Unless required by applicable law or agreed to in writing, software\n",
              "// distributed under the License is distributed on an \"AS IS\" BASIS,\n",
              "// WITHOUT WARRANTIES OR CONDITIONS OF ANY KIND, either express or implied.\n",
              "// See the License for the specific language governing permissions and\n",
              "// limitations under the License.\n",
              "\n",
              "/**\n",
              " * @fileoverview Helpers for google.colab Python module.\n",
              " */\n",
              "(function(scope) {\n",
              "function span(text, styleAttributes = {}) {\n",
              "  const element = document.createElement('span');\n",
              "  element.textContent = text;\n",
              "  for (const key of Object.keys(styleAttributes)) {\n",
              "    element.style[key] = styleAttributes[key];\n",
              "  }\n",
              "  return element;\n",
              "}\n",
              "\n",
              "// Max number of bytes which will be uploaded at a time.\n",
              "const MAX_PAYLOAD_SIZE = 100 * 1024;\n",
              "\n",
              "function _uploadFiles(inputId, outputId) {\n",
              "  const steps = uploadFilesStep(inputId, outputId);\n",
              "  const outputElement = document.getElementById(outputId);\n",
              "  // Cache steps on the outputElement to make it available for the next call\n",
              "  // to uploadFilesContinue from Python.\n",
              "  outputElement.steps = steps;\n",
              "\n",
              "  return _uploadFilesContinue(outputId);\n",
              "}\n",
              "\n",
              "// This is roughly an async generator (not supported in the browser yet),\n",
              "// where there are multiple asynchronous steps and the Python side is going\n",
              "// to poll for completion of each step.\n",
              "// This uses a Promise to block the python side on completion of each step,\n",
              "// then passes the result of the previous step as the input to the next step.\n",
              "function _uploadFilesContinue(outputId) {\n",
              "  const outputElement = document.getElementById(outputId);\n",
              "  const steps = outputElement.steps;\n",
              "\n",
              "  const next = steps.next(outputElement.lastPromiseValue);\n",
              "  return Promise.resolve(next.value.promise).then((value) => {\n",
              "    // Cache the last promise value to make it available to the next\n",
              "    // step of the generator.\n",
              "    outputElement.lastPromiseValue = value;\n",
              "    return next.value.response;\n",
              "  });\n",
              "}\n",
              "\n",
              "/**\n",
              " * Generator function which is called between each async step of the upload\n",
              " * process.\n",
              " * @param {string} inputId Element ID of the input file picker element.\n",
              " * @param {string} outputId Element ID of the output display.\n",
              " * @return {!Iterable<!Object>} Iterable of next steps.\n",
              " */\n",
              "function* uploadFilesStep(inputId, outputId) {\n",
              "  const inputElement = document.getElementById(inputId);\n",
              "  inputElement.disabled = false;\n",
              "\n",
              "  const outputElement = document.getElementById(outputId);\n",
              "  outputElement.innerHTML = '';\n",
              "\n",
              "  const pickedPromise = new Promise((resolve) => {\n",
              "    inputElement.addEventListener('change', (e) => {\n",
              "      resolve(e.target.files);\n",
              "    });\n",
              "  });\n",
              "\n",
              "  const cancel = document.createElement('button');\n",
              "  inputElement.parentElement.appendChild(cancel);\n",
              "  cancel.textContent = 'Cancel upload';\n",
              "  const cancelPromise = new Promise((resolve) => {\n",
              "    cancel.onclick = () => {\n",
              "      resolve(null);\n",
              "    };\n",
              "  });\n",
              "\n",
              "  // Wait for the user to pick the files.\n",
              "  const files = yield {\n",
              "    promise: Promise.race([pickedPromise, cancelPromise]),\n",
              "    response: {\n",
              "      action: 'starting',\n",
              "    }\n",
              "  };\n",
              "\n",
              "  cancel.remove();\n",
              "\n",
              "  // Disable the input element since further picks are not allowed.\n",
              "  inputElement.disabled = true;\n",
              "\n",
              "  if (!files) {\n",
              "    return {\n",
              "      response: {\n",
              "        action: 'complete',\n",
              "      }\n",
              "    };\n",
              "  }\n",
              "\n",
              "  for (const file of files) {\n",
              "    const li = document.createElement('li');\n",
              "    li.append(span(file.name, {fontWeight: 'bold'}));\n",
              "    li.append(span(\n",
              "        `(${file.type || 'n/a'}) - ${file.size} bytes, ` +\n",
              "        `last modified: ${\n",
              "            file.lastModifiedDate ? file.lastModifiedDate.toLocaleDateString() :\n",
              "                                    'n/a'} - `));\n",
              "    const percent = span('0% done');\n",
              "    li.appendChild(percent);\n",
              "\n",
              "    outputElement.appendChild(li);\n",
              "\n",
              "    const fileDataPromise = new Promise((resolve) => {\n",
              "      const reader = new FileReader();\n",
              "      reader.onload = (e) => {\n",
              "        resolve(e.target.result);\n",
              "      };\n",
              "      reader.readAsArrayBuffer(file);\n",
              "    });\n",
              "    // Wait for the data to be ready.\n",
              "    let fileData = yield {\n",
              "      promise: fileDataPromise,\n",
              "      response: {\n",
              "        action: 'continue',\n",
              "      }\n",
              "    };\n",
              "\n",
              "    // Use a chunked sending to avoid message size limits. See b/62115660.\n",
              "    let position = 0;\n",
              "    do {\n",
              "      const length = Math.min(fileData.byteLength - position, MAX_PAYLOAD_SIZE);\n",
              "      const chunk = new Uint8Array(fileData, position, length);\n",
              "      position += length;\n",
              "\n",
              "      const base64 = btoa(String.fromCharCode.apply(null, chunk));\n",
              "      yield {\n",
              "        response: {\n",
              "          action: 'append',\n",
              "          file: file.name,\n",
              "          data: base64,\n",
              "        },\n",
              "      };\n",
              "\n",
              "      let percentDone = fileData.byteLength === 0 ?\n",
              "          100 :\n",
              "          Math.round((position / fileData.byteLength) * 100);\n",
              "      percent.textContent = `${percentDone}% done`;\n",
              "\n",
              "    } while (position < fileData.byteLength);\n",
              "  }\n",
              "\n",
              "  // All done.\n",
              "  yield {\n",
              "    response: {\n",
              "      action: 'complete',\n",
              "    }\n",
              "  };\n",
              "}\n",
              "\n",
              "scope.google = scope.google || {};\n",
              "scope.google.colab = scope.google.colab || {};\n",
              "scope.google.colab._files = {\n",
              "  _uploadFiles,\n",
              "  _uploadFilesContinue,\n",
              "};\n",
              "})(self);\n",
              "</script> "
            ]
          },
          "metadata": {}
        },
        {
          "output_type": "stream",
          "name": "stdout",
          "text": [
            "Saving Cópia de Veículos (1).xlsx to Cópia de Veículos (1).xlsx\n"
          ]
        },
        {
          "output_type": "error",
          "ename": "UnicodeDecodeError",
          "evalue": "'utf-8' codec can't decode byte 0x9e in position 14: invalid start byte",
          "traceback": [
            "\u001b[0;31m---------------------------------------------------------------------------\u001b[0m",
            "\u001b[0;31mUnicodeDecodeError\u001b[0m                        Traceback (most recent call last)",
            "\u001b[0;32m/tmp/ipython-input-679542666.py\u001b[0m in \u001b[0;36m<cell line: 0>\u001b[0;34m()\u001b[0m\n\u001b[1;32m      2\u001b[0m \u001b[0;32mfrom\u001b[0m \u001b[0mgoogle\u001b[0m\u001b[0;34m.\u001b[0m\u001b[0mcolab\u001b[0m \u001b[0;32mimport\u001b[0m \u001b[0mfiles\u001b[0m\u001b[0;34m\u001b[0m\u001b[0;34m\u001b[0m\u001b[0m\n\u001b[1;32m      3\u001b[0m \u001b[0muploaded\u001b[0m \u001b[0;34m=\u001b[0m \u001b[0mfiles\u001b[0m\u001b[0;34m.\u001b[0m\u001b[0mupload\u001b[0m\u001b[0;34m(\u001b[0m\u001b[0;34m)\u001b[0m\u001b[0;34m\u001b[0m\u001b[0;34m\u001b[0m\u001b[0m\n\u001b[0;32m----> 4\u001b[0;31m \u001b[0mdf\u001b[0m \u001b[0;34m=\u001b[0m \u001b[0mpd\u001b[0m\u001b[0;34m.\u001b[0m\u001b[0mread_csv\u001b[0m\u001b[0;34m(\u001b[0m\u001b[0mnext\u001b[0m\u001b[0;34m(\u001b[0m\u001b[0miter\u001b[0m\u001b[0;34m(\u001b[0m\u001b[0muploaded\u001b[0m\u001b[0;34m)\u001b[0m\u001b[0;34m)\u001b[0m\u001b[0;34m)\u001b[0m\u001b[0;34m\u001b[0m\u001b[0;34m\u001b[0m\u001b[0m\n\u001b[0m\u001b[1;32m      5\u001b[0m \u001b[0;34m\u001b[0m\u001b[0m\n\u001b[1;32m      6\u001b[0m \u001b[0mprint\u001b[0m\u001b[0;34m(\u001b[0m\u001b[0;34mf\"Dimensões do dataset: {df.shape}\"\u001b[0m\u001b[0;34m)\u001b[0m\u001b[0;34m\u001b[0m\u001b[0;34m\u001b[0m\u001b[0m\n",
            "\u001b[0;32m/usr/local/lib/python3.12/dist-packages/pandas/io/parsers/readers.py\u001b[0m in \u001b[0;36mread_csv\u001b[0;34m(filepath_or_buffer, sep, delimiter, header, names, index_col, usecols, dtype, engine, converters, true_values, false_values, skipinitialspace, skiprows, skipfooter, nrows, na_values, keep_default_na, na_filter, verbose, skip_blank_lines, parse_dates, infer_datetime_format, keep_date_col, date_parser, date_format, dayfirst, cache_dates, iterator, chunksize, compression, thousands, decimal, lineterminator, quotechar, quoting, doublequote, escapechar, comment, encoding, encoding_errors, dialect, on_bad_lines, delim_whitespace, low_memory, memory_map, float_precision, storage_options, dtype_backend)\u001b[0m\n\u001b[1;32m   1024\u001b[0m     \u001b[0mkwds\u001b[0m\u001b[0;34m.\u001b[0m\u001b[0mupdate\u001b[0m\u001b[0;34m(\u001b[0m\u001b[0mkwds_defaults\u001b[0m\u001b[0;34m)\u001b[0m\u001b[0;34m\u001b[0m\u001b[0;34m\u001b[0m\u001b[0m\n\u001b[1;32m   1025\u001b[0m \u001b[0;34m\u001b[0m\u001b[0m\n\u001b[0;32m-> 1026\u001b[0;31m     \u001b[0;32mreturn\u001b[0m \u001b[0m_read\u001b[0m\u001b[0;34m(\u001b[0m\u001b[0mfilepath_or_buffer\u001b[0m\u001b[0;34m,\u001b[0m \u001b[0mkwds\u001b[0m\u001b[0;34m)\u001b[0m\u001b[0;34m\u001b[0m\u001b[0;34m\u001b[0m\u001b[0m\n\u001b[0m\u001b[1;32m   1027\u001b[0m \u001b[0;34m\u001b[0m\u001b[0m\n\u001b[1;32m   1028\u001b[0m \u001b[0;34m\u001b[0m\u001b[0m\n",
            "\u001b[0;32m/usr/local/lib/python3.12/dist-packages/pandas/io/parsers/readers.py\u001b[0m in \u001b[0;36m_read\u001b[0;34m(filepath_or_buffer, kwds)\u001b[0m\n\u001b[1;32m    618\u001b[0m \u001b[0;34m\u001b[0m\u001b[0m\n\u001b[1;32m    619\u001b[0m     \u001b[0;31m# Create the parser.\u001b[0m\u001b[0;34m\u001b[0m\u001b[0;34m\u001b[0m\u001b[0m\n\u001b[0;32m--> 620\u001b[0;31m     \u001b[0mparser\u001b[0m \u001b[0;34m=\u001b[0m \u001b[0mTextFileReader\u001b[0m\u001b[0;34m(\u001b[0m\u001b[0mfilepath_or_buffer\u001b[0m\u001b[0;34m,\u001b[0m \u001b[0;34m**\u001b[0m\u001b[0mkwds\u001b[0m\u001b[0;34m)\u001b[0m\u001b[0;34m\u001b[0m\u001b[0;34m\u001b[0m\u001b[0m\n\u001b[0m\u001b[1;32m    621\u001b[0m \u001b[0;34m\u001b[0m\u001b[0m\n\u001b[1;32m    622\u001b[0m     \u001b[0;32mif\u001b[0m \u001b[0mchunksize\u001b[0m \u001b[0;32mor\u001b[0m \u001b[0miterator\u001b[0m\u001b[0;34m:\u001b[0m\u001b[0;34m\u001b[0m\u001b[0;34m\u001b[0m\u001b[0m\n",
            "\u001b[0;32m/usr/local/lib/python3.12/dist-packages/pandas/io/parsers/readers.py\u001b[0m in \u001b[0;36m__init__\u001b[0;34m(self, f, engine, **kwds)\u001b[0m\n\u001b[1;32m   1618\u001b[0m \u001b[0;34m\u001b[0m\u001b[0m\n\u001b[1;32m   1619\u001b[0m         \u001b[0mself\u001b[0m\u001b[0;34m.\u001b[0m\u001b[0mhandles\u001b[0m\u001b[0;34m:\u001b[0m \u001b[0mIOHandles\u001b[0m \u001b[0;34m|\u001b[0m \u001b[0;32mNone\u001b[0m \u001b[0;34m=\u001b[0m \u001b[0;32mNone\u001b[0m\u001b[0;34m\u001b[0m\u001b[0;34m\u001b[0m\u001b[0m\n\u001b[0;32m-> 1620\u001b[0;31m         \u001b[0mself\u001b[0m\u001b[0;34m.\u001b[0m\u001b[0m_engine\u001b[0m \u001b[0;34m=\u001b[0m \u001b[0mself\u001b[0m\u001b[0;34m.\u001b[0m\u001b[0m_make_engine\u001b[0m\u001b[0;34m(\u001b[0m\u001b[0mf\u001b[0m\u001b[0;34m,\u001b[0m \u001b[0mself\u001b[0m\u001b[0;34m.\u001b[0m\u001b[0mengine\u001b[0m\u001b[0;34m)\u001b[0m\u001b[0;34m\u001b[0m\u001b[0;34m\u001b[0m\u001b[0m\n\u001b[0m\u001b[1;32m   1621\u001b[0m \u001b[0;34m\u001b[0m\u001b[0m\n\u001b[1;32m   1622\u001b[0m     \u001b[0;32mdef\u001b[0m \u001b[0mclose\u001b[0m\u001b[0;34m(\u001b[0m\u001b[0mself\u001b[0m\u001b[0;34m)\u001b[0m \u001b[0;34m->\u001b[0m \u001b[0;32mNone\u001b[0m\u001b[0;34m:\u001b[0m\u001b[0;34m\u001b[0m\u001b[0;34m\u001b[0m\u001b[0m\n",
            "\u001b[0;32m/usr/local/lib/python3.12/dist-packages/pandas/io/parsers/readers.py\u001b[0m in \u001b[0;36m_make_engine\u001b[0;34m(self, f, engine)\u001b[0m\n\u001b[1;32m   1896\u001b[0m \u001b[0;34m\u001b[0m\u001b[0m\n\u001b[1;32m   1897\u001b[0m         \u001b[0;32mtry\u001b[0m\u001b[0;34m:\u001b[0m\u001b[0;34m\u001b[0m\u001b[0;34m\u001b[0m\u001b[0m\n\u001b[0;32m-> 1898\u001b[0;31m             \u001b[0;32mreturn\u001b[0m \u001b[0mmapping\u001b[0m\u001b[0;34m[\u001b[0m\u001b[0mengine\u001b[0m\u001b[0;34m]\u001b[0m\u001b[0;34m(\u001b[0m\u001b[0mf\u001b[0m\u001b[0;34m,\u001b[0m \u001b[0;34m**\u001b[0m\u001b[0mself\u001b[0m\u001b[0;34m.\u001b[0m\u001b[0moptions\u001b[0m\u001b[0;34m)\u001b[0m\u001b[0;34m\u001b[0m\u001b[0;34m\u001b[0m\u001b[0m\n\u001b[0m\u001b[1;32m   1899\u001b[0m         \u001b[0;32mexcept\u001b[0m \u001b[0mException\u001b[0m\u001b[0;34m:\u001b[0m\u001b[0;34m\u001b[0m\u001b[0;34m\u001b[0m\u001b[0m\n\u001b[1;32m   1900\u001b[0m             \u001b[0;32mif\u001b[0m \u001b[0mself\u001b[0m\u001b[0;34m.\u001b[0m\u001b[0mhandles\u001b[0m \u001b[0;32mis\u001b[0m \u001b[0;32mnot\u001b[0m \u001b[0;32mNone\u001b[0m\u001b[0;34m:\u001b[0m\u001b[0;34m\u001b[0m\u001b[0;34m\u001b[0m\u001b[0m\n",
            "\u001b[0;32m/usr/local/lib/python3.12/dist-packages/pandas/io/parsers/c_parser_wrapper.py\u001b[0m in \u001b[0;36m__init__\u001b[0;34m(self, src, **kwds)\u001b[0m\n\u001b[1;32m     91\u001b[0m             \u001b[0;31m# Fail here loudly instead of in cython after reading\u001b[0m\u001b[0;34m\u001b[0m\u001b[0;34m\u001b[0m\u001b[0m\n\u001b[1;32m     92\u001b[0m             \u001b[0mimport_optional_dependency\u001b[0m\u001b[0;34m(\u001b[0m\u001b[0;34m\"pyarrow\"\u001b[0m\u001b[0;34m)\u001b[0m\u001b[0;34m\u001b[0m\u001b[0;34m\u001b[0m\u001b[0m\n\u001b[0;32m---> 93\u001b[0;31m         \u001b[0mself\u001b[0m\u001b[0;34m.\u001b[0m\u001b[0m_reader\u001b[0m \u001b[0;34m=\u001b[0m \u001b[0mparsers\u001b[0m\u001b[0;34m.\u001b[0m\u001b[0mTextReader\u001b[0m\u001b[0;34m(\u001b[0m\u001b[0msrc\u001b[0m\u001b[0;34m,\u001b[0m \u001b[0;34m**\u001b[0m\u001b[0mkwds\u001b[0m\u001b[0;34m)\u001b[0m\u001b[0;34m\u001b[0m\u001b[0;34m\u001b[0m\u001b[0m\n\u001b[0m\u001b[1;32m     94\u001b[0m \u001b[0;34m\u001b[0m\u001b[0m\n\u001b[1;32m     95\u001b[0m         \u001b[0mself\u001b[0m\u001b[0;34m.\u001b[0m\u001b[0munnamed_cols\u001b[0m \u001b[0;34m=\u001b[0m \u001b[0mself\u001b[0m\u001b[0;34m.\u001b[0m\u001b[0m_reader\u001b[0m\u001b[0;34m.\u001b[0m\u001b[0munnamed_cols\u001b[0m\u001b[0;34m\u001b[0m\u001b[0;34m\u001b[0m\u001b[0m\n",
            "\u001b[0;32mparsers.pyx\u001b[0m in \u001b[0;36mpandas._libs.parsers.TextReader.__cinit__\u001b[0;34m()\u001b[0m\n",
            "\u001b[0;32mparsers.pyx\u001b[0m in \u001b[0;36mpandas._libs.parsers.TextReader._get_header\u001b[0;34m()\u001b[0m\n",
            "\u001b[0;32mparsers.pyx\u001b[0m in \u001b[0;36mpandas._libs.parsers.TextReader._tokenize_rows\u001b[0;34m()\u001b[0m\n",
            "\u001b[0;32mparsers.pyx\u001b[0m in \u001b[0;36mpandas._libs.parsers.TextReader._check_tokenize_status\u001b[0;34m()\u001b[0m\n",
            "\u001b[0;32mparsers.pyx\u001b[0m in \u001b[0;36mpandas._libs.parsers.raise_parser_error\u001b[0;34m()\u001b[0m\n",
            "\u001b[0;32m/usr/lib/python3.12/codecs.py\u001b[0m in \u001b[0;36mdecode\u001b[0;34m(self, input, final)\u001b[0m\n",
            "\u001b[0;31mUnicodeDecodeError\u001b[0m: 'utf-8' codec can't decode byte 0x9e in position 14: invalid start byte"
          ]
        }
      ],
      "source": [
        "# Opção 1: Upload do arquivo limpo\n",
        "from google.colab import files\n",
        "uploaded = files.upload()\n",
        "df = pd.read_excel(next(iter(uploaded.keys())))\n",
        "\n",
        "print(f\"Dimensões do dataset: {df.shape}\")\n",
        "print(\"\\nVisualização das primeiras linhas:\")\n",
        "df.head()"
      ]
    },
    {
      "cell_type": "markdown",
      "metadata": {
        "id": "data_loading_alt"
      },
      "source": [
        "**Opção 2: Carregar e limpar arquivo original**"
      ]
    },
    {
      "cell_type": "code",
      "execution_count": null,
      "metadata": {
        "id": "upload_original"
      },
      "outputs": [],
      "source": [
        "# Opção 2: Upload e limpeza do arquivo original\n",
        "# from google.colab import files\n",
        "# uploaded = files.upload()\n",
        "# df_raw = pd.read_excel(next(iter(uploaded)))\n",
        "\n",
        "# # Limpeza dos dados\n",
        "# df = df_raw.copy()\n",
        "# df = df[df['Ano Modelo'] >= 1990]  # Filtrar anos realistas\n",
        "# df = df[df['Valor FIPE'] > 0]      # Remover valores FIPE zerados\n",
        "\n",
        "# print(f\"Dataset original: {df_raw.shape}\")\n",
        "# print(f\"Dataset após limpeza: {df.shape}\")\n",
        "# df.head()"
      ]
    },
    {
      "cell_type": "markdown",
      "metadata": {
        "id": "eda"
      },
      "source": [
        "## 4. Análise Exploratória dos Dados"
      ]
    },
    {
      "cell_type": "code",
      "execution_count": null,
      "metadata": {
        "id": "eda_code"
      },
      "outputs": [],
      "source": [
        "# Informações gerais do dataset\n",
        "print(\"=== INFORMAÇÕES GERAIS ===\")\n",
        "print(f\"Dimensões: {df.shape}\")\n",
        "print(f\"\\nColunas: {list(df.columns)}\")\n",
        "print(f\"\\nTipos de dados:\")\n",
        "print(df.dtypes)\n",
        "\n",
        "# Estatísticas descritivas da variável target\n",
        "print(f\"\\n=== ESTATÍSTICAS DO VALOR FIPE ===\")\n",
        "print(df['Valor FIPE'].describe())\n",
        "\n",
        "# Análise das principais variáveis categóricas\n",
        "print(f\"\\n=== PRINCIPAIS VARIÁVEIS CATEGÓRICAS ===\")\n",
        "print(f\"\\nMontadoras (top 5):\")\n",
        "print(df['Montadora'].value_counts().head())\n",
        "\n",
        "print(f\"\\nModelos (top 5):\")\n",
        "print(df['Modelo'].value_counts().head())\n",
        "\n",
        "print(f\"\\nCores:\")\n",
        "print(df['Cor'].value_counts())\n",
        "\n",
        "print(f\"\\nSituação:\")\n",
        "print(df['Situação'].value_counts())"
      ]
    },
    {
      "cell_type": "code",
      "execution_count": null,
      "metadata": {
        "id": "eda_viz"
      },
      "outputs": [],
      "source": [
        "# Visualizações exploratórias\n",
        "fig, axes = plt.subplots(2, 2, figsize=(15, 12))\n",
        "\n",
        "# 1. Distribuição do Valor FIPE\n",
        "axes[0, 0].hist(df['Valor FIPE'], bins=50, alpha=0.7, color='skyblue')\n",
        "axes[0, 0].set_title('Distribuição do Valor FIPE')\n",
        "axes[0, 0].set_xlabel('Valor FIPE (R$)')\n",
        "axes[0, 0].set_ylabel('Frequência')\n",
        "\n",
        "# 2. Valor FIPE por Ano Modelo\n",
        "axes[0, 1].scatter(df['Ano Modelo'], df['Valor FIPE'], alpha=0.6, color='coral')\n",
        "axes[0, 1].set_title('Valor FIPE por Ano Modelo')\n",
        "axes[0, 1].set_xlabel('Ano Modelo')\n",
        "axes[0, 1].set_ylabel('Valor FIPE (R$)')\n",
        "\n",
        "# 3. Top 10 Montadoras\n",
        "top_montadoras = df['Montadora'].value_counts().head(10)\n",
        "axes[1, 0].bar(range(len(top_montadoras)), top_montadoras.values, color='lightgreen')\n",
        "axes[1, 0].set_title('Top 10 Montadoras')\n",
        "axes[1, 0].set_xlabel('Montadoras')\n",
        "axes[1, 0].set_ylabel('Quantidade')\n",
        "axes[1, 0].set_xticks(range(len(top_montadoras)))\n",
        "axes[1, 0].set_xticklabels(top_montadoras.index, rotation=45, ha='right')\n",
        "\n",
        "# 4. Valor FIPE por Situação\n",
        "df.boxplot(column='Valor FIPE', by='Situação', ax=axes[1, 1])\n",
        "axes[1, 1].set_title('Valor FIPE por Situação')\n",
        "axes[1, 1].set_xlabel('Situação')\n",
        "axes[1, 1].set_ylabel('Valor FIPE (R$)')\n",
        "\n",
        "plt.tight_layout()\n",
        "plt.show()\n",
        "\n",
        "# Correlação entre Ano e Valor FIPE\n",
        "correlation = df[['Ano Modelo', 'Valor FIPE']].corr()\n",
        "print(f\"\\nCorrelação entre Ano Modelo e Valor FIPE:\")\n",
        "print(correlation)"
      ]
    },
    {
      "cell_type": "markdown",
      "metadata": {
        "id": "feature_engineering"
      },
      "source": [
        "## 5. Feature Engineering e Pré-processamento"
      ]
    },
    {
      "cell_type": "code",
      "execution_count": null,
      "metadata": {
        "id": "features"
      },
      "outputs": [],
      "source": [
        "# Definindo a variável target (y) e as features (X)\n",
        "target = \"Valor FIPE\"\n",
        "features_categoricas = [\"Montadora\", \"Modelo\", \"Cor\", \"Grupo\", \"Situação\"]\n",
        "features_numericas = [\"Ano Modelo\"]\n",
        "\n",
        "X = df[features_categoricas + features_numericas]\n",
        "y = df[target]\n",
        "\n",
        "print(f\"Target: {target}\")\n",
        "print(f\"Features: {X.columns.tolist()}\")\n",
        "print(f\"\\nShape das features: {X.shape}\")\n",
        "print(f\"Shape do target: {y.shape}\")\n",
        "\n",
        "# Verificar valores nulos\n",
        "print(f\"\\nValores nulos nas features:\")\n",
        "print(X.isnull().sum())"
      ]
    },
    {
      "cell_type": "code",
      "execution_count": null,
      "metadata": {
        "id": "train_test_split"
      },
      "outputs": [],
      "source": [
        "# Divisão dos dados em conjuntos de treino e teste (80% treino, 20% teste)\n",
        "X_train, X_test, y_train, y_test = train_test_split(X, y, test_size=0.2, random_state=42)\n",
        "\n",
        "print(f\"Tamanho do conjunto de treino: {X_train.shape[0]} amostras\")\n",
        "print(f\"Tamanho do conjunto de teste: {X_test.shape[0]} amostras\")\n",
        "print(f\"Proporção treino/teste: {X_train.shape[0]/X_test.shape[0]:.1f}:1\")"
      ]
    },
    {
      "cell_type": "code",
      "execution_count": null,
      "metadata": {
        "id": "preprocessing"
      },
      "outputs": [],
      "source": [
        "# Criação do pipeline de pré-processamento\n",
        "# 1. Features Numéricas: Padronização (StandardScaler)\n",
        "# 2. Features Categóricas: One-Hot Encoding (ignorar categorias não vistas no treino)\n",
        "preprocessor = ColumnTransformer(\n",
        "    transformers=[\n",
        "        (\"num\", StandardScaler(), features_numericas),\n",
        "        (\"cat\", OneHotEncoder(handle_unknown=\"ignore\"), features_categoricas),\n",
        "    ]\n",
        ")\n",
        "\n",
        "print(\"Pipeline de pré-processamento criado.\")\n",
        "print(f\"\\nTransformações aplicadas:\")\n",
        "print(f\"- Features numéricas ({len(features_numericas)}): StandardScaler\")\n",
        "print(f\"- Features categóricas ({len(features_categoricas)}): OneHotEncoder\")"
      ]
    },
    {
      "cell_type": "markdown",
      "metadata": {
        "id": "modeling"
      },
      "source": [
        "## 6. Modelagem e Treinamento"
      ]
    },
    {
      "cell_type": "code",
      "execution_count": null,
      "metadata": {
        "id": "models"
      },
      "outputs": [],
      "source": [
        "# Definindo os modelos que serão treinados e comparados\n",
        "models = {\n",
        "    \"Linear Regression\": LinearRegression(),\n",
        "    \"Random Forest\": RandomForestRegressor(random_state=42, n_estimators=100),\n",
        "    \"XGBoost\": XGBRegressor(random_state=42, n_estimators=100),\n",
        "}\n",
        "\n",
        "results = {}\n",
        "\n",
        "print(\"Iniciando o treinamento dos modelos...\")\n",
        "print(f\"Modelos a serem treinados: {list(models.keys())}\")"
      ]
    },
    {
      "cell_type": "code",
      "execution_count": null,
      "metadata": {
        "id": "training"
      },
      "outputs": [],
      "source": [
        "for name, model in models.items():\n",
        "    print(f\"\\n--- Treinando {name} ---\")\n",
        "\n",
        "    # Criando o pipeline final com pré-processamento e o modelo\n",
        "    pipeline = Pipeline(steps=[(\"preprocessor\", preprocessor), (\"regressor\", model)])\n",
        "\n",
        "    # Treinamento\n",
        "    pipeline.fit(X_train, y_train)\n",
        "\n",
        "    # Predição\n",
        "    y_pred = pipeline.predict(X_test)\n",
        "\n",
        "    # Avaliação\n",
        "    mae = mean_absolute_error(y_test, y_pred)\n",
        "    rmse = np.sqrt(mean_squared_error(y_test, y_pred))\n",
        "    r2 = r2_score(y_test, y_pred)\n",
        "\n",
        "    results[name] = {\"MAE\": mae, \"RMSE\": rmse, \"R²\": r2, \"predictions\": y_pred}\n",
        "\n",
        "    print(f\"Resultados para {name}:\")\n",
        "    print(f\"  - MAE (Erro Médio Absoluto): R$ {mae:,.2f}\")\n",
        "    print(f\"  - RMSE (Raiz do Erro Quadrático Médio): R$ {rmse:,.2f}\")\n",
        "    print(f\"  - R² (Coeficiente de Determinação): {r2:.4f}\")\n",
        "\n",
        "print(\"\\nTreinamento concluído!\")"
      ]
    },
    {
      "cell_type": "markdown",
      "metadata": {
        "id": "evaluation"
      },
      "source": [
        "## 7. Avaliação e Comparação dos Resultados"
      ]
    },
    {
      "cell_type": "code",
      "execution_count": null,
      "metadata": {
        "id": "results_table"
      },
      "outputs": [],
      "source": [
        "# Tabela comparativa de métricas\n",
        "results_df = pd.DataFrame(results).T.drop(columns=[\"predictions\"])\n",
        "print(\"=== Tabela Comparativa de Métricas ===\")\n",
        "results_df_sorted = results_df.sort_values(by=\"R²\", ascending=False)\n",
        "print(results_df_sorted)\n",
        "\n",
        "# Identificar o melhor modelo\n",
        "best_model_name = results_df[\"R²\"].idxmax()\n",
        "best_model_r2 = results_df.loc[best_model_name, \"R²\"]\n",
        "best_model_mae = results_df.loc[best_model_name, \"MAE\"]\n",
        "\n",
        "print(f\"\\n🏆 Melhor modelo: {best_model_name}\")\n",
        "print(f\"   R² = {best_model_r2:.4f}\")\n",
        "print(f\"   MAE = R$ {best_model_mae:,.2f}\")"
      ]
    },
    {
      "cell_type": "code",
      "execution_count": null,
      "metadata": {
        "id": "results_viz"
      },
      "outputs": [],
      "source": [
        "# Visualização dos resultados\n",
        "fig, axes = plt.subplots(1, 3, figsize=(20, 6), sharey=True)\n",
        "fig.suptitle(\"Comparação entre Valores Reais e Preditos por Modelo\", fontsize=16)\n",
        "\n",
        "for i, (name, data) in enumerate(results.items()):\n",
        "    sns.scatterplot(ax=axes[i], x=y_test, y=data[\"predictions\"], alpha=0.6)\n",
        "    axes[i].set_title(f\"{name} (R² = {data['R²']:.3f})\")\n",
        "    axes[i].set_xlabel(\"Valor FIPE Real\")\n",
        "    axes[i].set_ylabel(\"Valor FIPE Predito\")\n",
        "    # Linha de referência (y=x)\n",
        "    axes[i].plot([y_test.min(), y_test.max()], [y_test.min(), y_test.max()], \"r--\", lw=2)\n",
        "\n",
        "plt.tight_layout(rect=[0, 0, 1, 0.96])\n",
        "plt.show()"
      ]
    },
    {
      "cell_type": "code",
      "execution_count": null,
      "metadata": {
        "id": "residuals"
      },
      "outputs": [],
      "source": [
        "# Análise de resíduos do melhor modelo\n",
        "best_predictions = results[best_model_name][\"predictions\"]\n",
        "residuals = y_test - best_predictions\n",
        "\n",
        "fig, axes = plt.subplots(1, 2, figsize=(15, 5))\n",
        "\n",
        "# Gráfico de resíduos\n",
        "axes[0].scatter(best_predictions, residuals, alpha=0.6)\n",
        "axes[0].axhline(y=0, color='r', linestyle='--')\n",
        "axes[0].set_xlabel('Valores Preditos')\n",
        "axes[0].set_ylabel('Resíduos')\n",
        "axes[0].set_title(f'Análise de Resíduos - {best_model_name}')\n",
        "\n",
        "# Histograma dos resíduos\n",
        "axes[1].hist(residuals, bins=30, alpha=0.7)\n",
        "axes[1].set_xlabel('Resíduos')\n",
        "axes[1].set_ylabel('Frequência')\n",
        "axes[1].set_title('Distribuição dos Resíduos')\n",
        "\n",
        "plt.tight_layout()\n",
        "plt.show()\n",
        "\n",
        "print(f\"Estatísticas dos resíduos:\")\n",
        "print(f\"Média: {residuals.mean():.2f}\")\n",
        "print(f\"Desvio padrão: {residuals.std():.2f}\")\n",
        "print(f\"Mediana: {residuals.median():.2f}\")"
      ]
    },
    {
      "cell_type": "markdown",
      "metadata": {
        "id": "conclusion"
      },
      "source": [
        "## 8. Conclusão e Próximos Passos"
      ]
    },
    {
      "cell_type": "code",
      "execution_count": null,
      "metadata": {
        "id": "conclusion_code"
      },
      "outputs": [],
      "source": [
        "print(\"=== CONCLUSÃO DO MVP ===\")\n",
        "print(f\"O modelo com melhor desempenho foi o **{best_model_name}**, com um R² de **{best_model_r2:.4f}**.\")\n",
        "print(\"Este valor indica que o modelo consegue explicar uma porção significativa da variabilidade do Valor FIPE.\")\n",
        "print(f\"O Erro Médio Absoluto (MAE) nos diz que, em média, as previsões do modelo erram em torno de R$ {best_model_mae:,.2f}.\")\n",
        "\n",
        "print(\"\\n**Próximos Passos Sugeridos:**\")\n",
        "print(\"1. **Otimização de Hiperparâmetros**: Utilizar técnicas como GridSearchCV ou RandomizedSearchCV para encontrar os melhores hiperparâmetros para o XGBoost e Random Forest.\")\n",
        "print(\"2. **Feature Engineering Avançada**: Criar novas features, como a idade do veículo (ano atual - ano modelo) ou combinar informações de diferentes colunas.\")\n",
        "print(\"3. **Análise de Erros**: Investigar os casos onde o modelo mais erra para entender suas limitações.\")\n",
        "print(\"4. **Validação Cruzada**: Implementar validação cruzada (K-Fold) para obter uma estimativa mais robusta do desempenho do modelo.\")\n",
        "print(\"5. **Inclusão de Mais Dados**: Utilizar mais features que foram descartadas (após tratamento adequado) ou buscar dados externos.\")\n",
        "\n",
        "print(\"\\n**Insights Obtidos:**\")\n",
        "print(f\"- O dataset possui {df.shape[0]} veículos com {df.shape[1]} características.\")\n",
        "print(f\"- A correlação entre Ano Modelo e Valor FIPE é de {df[['Ano Modelo', 'Valor FIPE']].corr().iloc[0,1]:.3f}.\")\n",
        "print(f\"- As principais montadoras são: {', '.join(df['Montadora'].value_counts().head(3).index.tolist())}.\")\n",
        "print(f\"- O modelo Linear Regression teve desempenho surpreendentemente bom, indicando relações lineares fortes entre as features e o target.\")"
      ]
    }
  ],
  "metadata": {
    "colab": {
      "provenance": [],
      "include_colab_link": true
    },
    "kernelspec": {
      "display_name": "Python 3",
      "name": "python3"
    },
    "language_info": {
      "name": "python"
    }
  },
  "nbformat": 4,
  "nbformat_minor": 0
}